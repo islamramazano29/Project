{
  "nbformat": 4,
  "nbformat_minor": 0,
  "metadata": {
    "colab": {
      "provenance": [],
      "authorship_tag": "ABX9TyMJdG58ABRUzKTXIadjBEgC",
      "include_colab_link": true
    },
    "kernelspec": {
      "name": "python3",
      "display_name": "Python 3"
    },
    "language_info": {
      "name": "python"
    }
  },
  "cells": [
    {
      "cell_type": "markdown",
      "metadata": {
        "id": "view-in-github",
        "colab_type": "text"
      },
      "source": [
        "<a href=\"https://colab.research.google.com/github/islamramazano29/Project/blob/master/Untitled0.ipynb\" target=\"_parent\"><img src=\"https://colab.research.google.com/assets/colab-badge.svg\" alt=\"Open In Colab\"/></a>"
      ]
    },
    {
      "cell_type": "code",
      "execution_count": 1,
      "metadata": {
        "colab": {
          "base_uri": "https://localhost:8080/"
        },
        "id": "M35edfwXkc3x",
        "outputId": "33c03165-f248-41f9-86f5-67b24d7b6a35"
      },
      "outputs": [
        {
          "output_type": "stream",
          "name": "stdout",
          "text": [
            "Введите радиус цилиндра5\n",
            "Введите высоту цилиндра5\n",
            "392.69908169872417\n"
          ]
        }
      ],
      "source": [
        "import math\n",
        "r = int(input(\"Введите радиус цилиндра\"))\n",
        "h = int(input(\"Введите высоту цилиндра\"))\n",
        "def cylinder_volume(h, r):\n",
        "  volume = math.pi * (r**2) * h\n",
        "  return volume\n",
        "print(cylinder_volume(r, h))\n"
      ]
    }
  ]
}