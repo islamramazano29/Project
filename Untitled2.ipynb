{
  "nbformat": 4,
  "nbformat_minor": 0,
  "metadata": {
    "colab": {
      "provenance": [],
      "authorship_tag": "ABX9TyMks/oOkDrJjPM3UzjeYQD+",
      "include_colab_link": true
    },
    "kernelspec": {
      "name": "python3",
      "display_name": "Python 3"
    },
    "language_info": {
      "name": "python"
    }
  },
  "cells": [
    {
      "cell_type": "markdown",
      "metadata": {
        "id": "view-in-github",
        "colab_type": "text"
      },
      "source": [
        "<a href=\"https://colab.research.google.com/github/islamramazano29/Project/blob/master/Untitled2.ipynb\" target=\"_parent\"><img src=\"https://colab.research.google.com/assets/colab-badge.svg\" alt=\"Open In Colab\"/></a>"
      ]
    },
    {
      "cell_type": "code",
      "execution_count": 2,
      "metadata": {
        "colab": {
          "base_uri": "https://localhost:8080/"
        },
        "id": "wm8FdnjcrvQx",
        "outputId": "99b83be4-f479-48ba-f444-cb9fca20142b"
      },
      "outputs": [
        {
          "output_type": "stream",
          "name": "stdout",
          "text": [
            "Исходный массив:  [0, 5, -3, 6, -10, 9, 5, 4, -1, 16]\n",
            "Отсортированный массив:  [-10, -3, -1, 0, 4, 5, 5, 6, 9, 16]\n"
          ]
        }
      ],
      "source": [
        "A = [0, 5, -3, 6, -10, 9, 5, 4, -1, 16]\n",
        "B = sorted(A)\n",
        "print(\"Исходный массив: \", A)\n",
        "print(\"Отсортированный массив: \", B)"
      ]
    }
  ]
}