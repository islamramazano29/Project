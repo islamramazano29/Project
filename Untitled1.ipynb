{
  "nbformat": 4,
  "nbformat_minor": 0,
  "metadata": {
    "colab": {
      "provenance": [],
      "authorship_tag": "ABX9TyN6250PqcfUoT/t8hQ0YuFR",
      "include_colab_link": true
    },
    "kernelspec": {
      "name": "python3",
      "display_name": "Python 3"
    },
    "language_info": {
      "name": "python"
    }
  },
  "cells": [
    {
      "cell_type": "markdown",
      "metadata": {
        "id": "view-in-github",
        "colab_type": "text"
      },
      "source": [
        "<a href=\"https://colab.research.google.com/github/islamramazano29/Project/blob/master/Untitled1.ipynb\" target=\"_parent\"><img src=\"https://colab.research.google.com/assets/colab-badge.svg\" alt=\"Open In Colab\"/></a>"
      ]
    },
    {
      "cell_type": "code",
      "execution_count": 10,
      "metadata": {
        "colab": {
          "base_uri": "https://localhost:8080/",
          "height": 87
        },
        "id": "WyO0rQVFoaRX",
        "outputId": "9f2f3515-ede3-4cf5-e29b-ec0e74835e09"
      },
      "outputs": [
        {
          "name": "stdout",
          "output_type": "stream",
          "text": [
            "Введите коэффициент 'a': 0\n",
            "Введите коэффициент 'b': 0\n",
            "Введите коэффициент 'c': 7\n"
          ]
        },
        {
          "output_type": "execute_result",
          "data": {
            "text/plain": [
              "\"Это не квадратное уравнение (коэффициент 'a' равен 0).\""
            ],
            "application/vnd.google.colaboratory.intrinsic+json": {
              "type": "string"
            }
          },
          "metadata": {},
          "execution_count": 10
        }
      ],
      "source": [
        "import cmath\n",
        "a = float(input(\"Введите коэффициент 'a': \"))\n",
        "b = float(input(\"Введите коэффициент 'b': \"))\n",
        "c = float(input(\"Введите коэффициент 'c': \"))\n",
        "def solve_equation(a, b, c):\n",
        "    if a == 0:\n",
        "        return \"Это не квадратное уравнение (коэффициент 'a' равен 0).\"\n",
        "    delta = (b**2) - 4*(a*c)\n",
        "    if delta >= 0:\n",
        "        x1 = (-b - delta**0.5) / (2*a)\n",
        "        x2 = (-b + delta**0.5) / (2*a)\n",
        "        return x1, x2\n",
        "    else:\n",
        "        x1 = (-b - cmath.sqrt(delta)) / (2*a)\n",
        "        x2 = (-b + cmath.sqrt(delta)) / (2*a)\n",
        "        return x1, x2\n",
        "\n",
        "solve_equation(a,b,c)"
      ]
    }
  ]
}