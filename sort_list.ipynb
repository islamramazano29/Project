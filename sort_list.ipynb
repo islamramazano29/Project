{
  "nbformat": 4,
  "nbformat_minor": 0,
  "metadata": {
    "colab": {
      "provenance": [],
      "authorship_tag": "ABX9TyMuZ87q1cY0jQj2+ToAnbFg",
      "include_colab_link": true
    },
    "kernelspec": {
      "name": "python3",
      "display_name": "Python 3"
    },
    "language_info": {
      "name": "python"
    }
  },
  "cells": [
    {
      "cell_type": "markdown",
      "metadata": {
        "id": "view-in-github",
        "colab_type": "text"
      },
      "source": [
        "<a href=\"https://colab.research.google.com/github/islamramazano29/Project/blob/master/sort_list.ipynb\" target=\"_parent\"><img src=\"https://colab.research.google.com/assets/colab-badge.svg\" alt=\"Open In Colab\"/></a>"
      ]
    },
    {
      "cell_type": "markdown",
      "source": [
        "**Генерация случайного списка и его сортировка**"
      ],
      "metadata": {
        "id": "pL7HKrTKUFot"
      }
    },
    {
      "cell_type": "code",
      "source": [
        "from random import randint\n",
        "def gen_seq():\n",
        "  seq = []\n",
        "  for i in range(10):\n",
        "    a = randint(0, 101)\n",
        "    seq.append(a)\n",
        "  return seq\n",
        "\n",
        "def sort_seq(list_1):\n",
        "  for i in range(len(list_1)):\n",
        "    for j in range(len(list_1) - 1):\n",
        "      if list_1[j] > list_1[j+1]:\n",
        "                   list_1[j], list_1[j+1] = list_1[j+1], list_1[j]\n",
        "  return list_1\n",
        "\n",
        "print(gen_seq())\n",
        "print(sort_seq(gen_seq()))"
      ],
      "metadata": {
        "colab": {
          "base_uri": "https://localhost:8080/"
        },
        "id": "xoGJVB5aURrH",
        "outputId": "ae0afddf-fd59-46a3-d7f9-e0d4a21b1c1c"
      },
      "execution_count": 23,
      "outputs": [
        {
          "output_type": "stream",
          "name": "stdout",
          "text": [
            "[15, 39, 6, 5, 91, 52, 72, 4, 47, 5]\n",
            "[11, 13, 14, 18, 25, 37, 40, 45, 64, 71]\n"
          ]
        }
      ]
    },
    {
      "cell_type": "code",
      "source": [],
      "metadata": {
        "id": "SIb0aZwuV7EC"
      },
      "execution_count": 23,
      "outputs": []
    }
  ]
}